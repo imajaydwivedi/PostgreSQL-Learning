{
 "cells": [
  {
   "attachments": {},
   "cell_type": "markdown",
   "metadata": {
    "azdata_cell_guid": "0b93a9be-3bd2-4631-b69f-42ce2588a238"
   },
   "source": [
    "# Drop [postgres_air] database\n",
    "## ⚠️ Important Warning\n",
    "Kindly run/open this file in Anaconda Jupyter Notebook. Not in Azure Data Studio"
   ]
  },
  {
   "cell_type": "code",
   "execution_count": 2,
   "metadata": {
    "azdata_cell_guid": "0c7d011b-f5c9-4cea-aa3b-c27fe48fb6a6",
    "language": "powershell"
   },
   "outputs": [
    {
     "name": "stdout",
     "output_type": "stream",
     "text": [
      "WARNING:  database \"postgres\" has a collation version mismatch\n",
      "DETAIL:  The database was created using collation version 2.35, but the operating system provides version 2.39.\n",
      "HINT:  Rebuild all objects in this database that use the default collation and run ALTER DATABASE postgres REFRESH COLLATION VERSION, or build PostgreSQL with the right library version.\n",
      "DROP DATABASE\n"
     ]
    }
   ],
   "source": [
    "!psql -h localhost -U postgres -c 'drop database postgres_air;'"
   ]
  },
  {
   "attachments": {},
   "cell_type": "markdown",
   "metadata": {
    "azdata_cell_guid": "e8470357-4f58-4156-9ecd-c63abebcfeaf"
   },
   "source": [
    "# Create empty [postgres_air] database"
   ]
  },
  {
   "cell_type": "code",
   "execution_count": 3,
   "metadata": {
    "azdata_cell_guid": "c024f7f3-be28-4f8f-b68c-707a5516f4c1",
    "language": "powershell"
   },
   "outputs": [
    {
     "name": "stdout",
     "output_type": "stream",
     "text": [
      "WARNING:  database \"postgres\" has a collation version mismatch\n",
      "DETAIL:  The database was created using collation version 2.35, but the operating system provides version 2.39.\n",
      "HINT:  Rebuild all objects in this database that use the default collation and run ALTER DATABASE postgres REFRESH COLLATION VERSION, or build PostgreSQL with the right library version.\n",
      "CREATE DATABASE\n"
     ]
    }
   ],
   "source": [
    "!psql -h localhost -U postgres -c 'create database postgres_air;'"
   ]
  },
  {
   "attachments": {},
   "cell_type": "markdown",
   "metadata": {
    "azdata_cell_guid": "4d0af599-6ba8-430f-8aa7-9454053de706"
   },
   "source": [
    "# Restore data for [postgres_air] from dump"
   ]
  },
  {
   "cell_type": "code",
   "execution_count": 4,
   "metadata": {
    "azdata_cell_guid": "4443606c-0b63-463c-9b47-ca4fdc6ab0ed",
    "language": "powershell"
   },
   "outputs": [],
   "source": [
    "!pg_restore -h localhost -d postgres_air -U postgres /stale-storage/Softwares/PostgreSQL/PostgreSQL-Sample-Dbs/postgres_air/postgres_air_2023.backup"
   ]
  },
  {
   "cell_type": "markdown",
   "metadata": {},
   "source": [
    "## Set default schema to postgres_air"
   ]
  },
  {
   "cell_type": "code",
   "execution_count": 17,
   "metadata": {},
   "outputs": [
    {
     "name": "stdout",
     "output_type": "stream",
     "text": [
      "ALTER ROLE\n",
      "     search_path      \n",
      "----------------------\n",
      " postgres_air, public\n",
      "(1 row)\n",
      "\n"
     ]
    }
   ],
   "source": [
    "!psql -h localhost -d postgres_air -U postgres -c \"ALTER ROLE postgres SET search_path TO postgres_air, public;\"\n",
    "!psql -h localhost -d postgres_air -U postgres -c \"SHOW search_path;\""
   ]
  },
  {
   "cell_type": "markdown",
   "metadata": {},
   "source": [
    "# Validate row counts in tables"
   ]
  },
  {
   "cell_type": "code",
   "execution_count": 6,
   "metadata": {},
   "outputs": [
    {
     "name": "stdout",
     "output_type": "stream",
     "text": [
      " table_schema |   table_name   |  rows_n  \n",
      "--------------+----------------+----------\n",
      " postgres_air | boarding_pass  | 25293491\n",
      " postgres_air | booking_leg    | 17893566\n",
      " postgres_air | passenger      | 16313693\n",
      " postgres_air | booking        |  5643216\n",
      " postgres_air | account        |   864962\n",
      " postgres_air | flight         |   683178\n",
      " postgres_air | phone          |   407444\n",
      " postgres_air | frequent_flyer |   128346\n",
      " postgres_air | airport        |      692\n",
      " postgres_air | aircraft       |       12\n",
      "(10 rows)\n",
      "\n"
     ]
    }
   ],
   "source": [
    "!psql -h localhost -U postgres -d postgres_air -f 'qry-get-postgres_air-tables-n-rowcounts.sql'"
   ]
  },
  {
   "cell_type": "markdown",
   "metadata": {},
   "source": [
    "# Create Initial Indexes"
   ]
  },
  {
   "cell_type": "code",
   "execution_count": 7,
   "metadata": {},
   "outputs": [
    {
     "name": "stdout",
     "output_type": "stream",
     "text": [
      "SET\n",
      "CREATE INDEX\n",
      "CREATE INDEX\n",
      "CREATE INDEX\n",
      "CREATE INDEX\n",
      "CREATE INDEX\n",
      "CREATE INDEX\n"
     ]
    }
   ],
   "source": [
    "!psql -h localhost -U postgres -d postgres_air -f 'setup-postgres_air-indexes.sql'"
   ]
  },
  {
   "cell_type": "markdown",
   "metadata": {},
   "source": [
    "## Get me indexes on tables now"
   ]
  },
  {
   "cell_type": "code",
   "execution_count": 1,
   "metadata": {},
   "outputs": [
    {
     "name": "stdout",
     "output_type": "stream",
     "text": [
      "   table_name   |         index_name         | is_unique | is_primary | index_type |      index_keys       | is_functional | is_partial \n",
      "----------------+----------------------------+-----------+------------+------------+-----------------------+---------------+------------\n",
      " account        | account_pkey               | t         | t          | btree      | {account_id}          | f             | f\n",
      " aircraft       | aircraft_pkey              | t         | t          | btree      | {code}                | f             | f\n",
      " airport        | airport_pkey               | t         | t          | btree      | {airport_code}        | f             | f\n",
      " boarding_pass  | boarding_pass_pkey         | t         | t          | btree      | {pass_id}             | f             | f\n",
      " booking        | booking_booking_ref_key    | t         | f          | btree      | {booking_ref}         | f             | f\n",
      " booking_leg    | booking_leg_pkey           | t         | t          | btree      | {booking_leg_id}      | f             | f\n",
      " booking        | booking_pkey               | t         | t          | btree      | {booking_id}          | f             | f\n",
      " flight         | flight_pkey                | t         | t          | btree      | {flight_id}           | f             | f\n",
      " frequent_flyer | frequent_flyer_pkey        | t         | t          | btree      | {frequent_flyer_id}   | f             | f\n",
      " passenger      | passenger_pkey             | t         | t          | btree      | {passenger_id}        | f             | f\n",
      " phone          | phone_pkey                 | t         | t          | btree      | {phone_id}            | f             | f\n",
      " flight         | flight_departure_airport   | f         | f          | btree      | {departure_airport}   | f             | f\n",
      " flight         | flight_scheduled_departure | f         | f          | btree      | {scheduled_departure} | f             | f\n",
      " flight         | flight_update_ts           | f         | f          | btree      | {update_ts}           | f             | f\n",
      " booking_leg    | booking_leg_booking_id     | f         | f          | btree      | {booking_id}          | f             | f\n",
      " booking_leg    | booking_leg_update_ts      | f         | f          | btree      | {update_ts}           | f             | f\n",
      " account        | account_last_name          | f         | f          | btree      | {last_name}           | f             | f\n",
      "(17 rows)\n",
      "\n"
     ]
    }
   ],
   "source": [
    "!psql -h localhost -U postgres -d postgres_air -f 'qry-get-postgres_air-index-n-types.sql'"
   ]
  },
  {
   "cell_type": "code",
   "execution_count": 1,
   "metadata": {},
   "outputs": [
    {
     "name": "stdout",
     "output_type": "stream",
     "text": [
      "SET\n",
      "   tablename    |         indexname          |   num_rows    | table_size | index_size | unique \n",
      "----------------+----------------------------+---------------+------------+------------+--------\n",
      " account        | account_last_name          |        864962 | 65 MB      | 6080 kB    | N\n",
      " account        | account_pkey               |        864962 | 65 MB      | 19 MB      | Y\n",
      " aircraft       | aircraft_pkey              |            12 | 8192 bytes | 16 kB      | Y\n",
      " airport        | airport_pkey               |           692 | 80 kB      | 32 kB      | Y\n",
      " boarding_pass  | boarding_pass_pkey         |  2.529416e+07 | 2038 MB    | 542 MB     | Y\n",
      " booking        | booking_booking_ref_key    |  5.643905e+06 | 692 MB     | 121 MB     | Y\n",
      " booking        | booking_pkey               |  5.643905e+06 | 692 MB     | 121 MB     | Y\n",
      " booking_leg    | booking_leg_booking_id     | 1.7893566e+07 | 1028 MB    | 251 MB     | N\n",
      " booking_leg    | booking_leg_pkey           | 1.7893566e+07 | 1028 MB    | 383 MB     | Y\n",
      " booking_leg    | booking_leg_update_ts      | 1.7893566e+07 | 1028 MB    | 251 MB     | N\n",
      " flight         | flight_departure_airport   |        683178 | 67 MB      | 4728 kB    | N\n",
      " flight         | flight_pkey                |        683178 | 67 MB      | 15 MB      | Y\n",
      " flight         | flight_scheduled_departure |        683178 | 67 MB      | 5808 kB    | N\n",
      " flight         | flight_update_ts           |        683178 | 67 MB      | 7104 kB    | N\n",
      " frequent_flyer | frequent_flyer_pkey        |        128346 | 14 MB      | 2840 kB    | Y\n",
      " passenger      | passenger_pkey             | 1.6313137e+07 | 1342 MB    | 349 MB     | Y\n",
      " phone          | phone_pkey                 |        407444 | 26 MB      | 8960 kB    | Y\n",
      "(17 rows)\n",
      "\n"
     ]
    }
   ],
   "source": [
    "!psql -h localhost -U postgres -d postgres_air -f 'qry-get-postgres_air-index-n-size.sql'"
   ]
  }
 ],
 "metadata": {
  "kernelspec": {
   "display_name": "Python 3 (ipykernel)",
   "language": "python",
   "name": "python3"
  },
  "language_info": {
   "codemirror_mode": {
    "name": "ipython",
    "version": 3
   },
   "file_extension": ".py",
   "mimetype": "text/x-python",
   "name": "python",
   "nbconvert_exporter": "python",
   "pygments_lexer": "ipython3",
   "version": "3.12.2"
  }
 },
 "nbformat": 4,
 "nbformat_minor": 4
}
